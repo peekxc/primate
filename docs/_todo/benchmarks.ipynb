{
  "cells": [
    {
      "cell_type": "raw",
      "metadata": {},
      "source": [
        "---\n",
        "title: \"Benchmarks\"\n",
        "---"
      ],
      "id": "6840c4c6"
    },
    {
      "cell_type": "code",
      "metadata": {},
      "source": [
        "import numpy as np\n",
        "from primate.trace import slq\n",
        "from scipy.linalg import toeplitz\n",
        "\n",
        "np.random.seed(1234) \n",
        "B = toeplitz(np.random.normal(size=100))\n",
        "A = B.T @ B\n",
        "\n",
        "slq_params = dict(\n",
        "  matrix_function = \"sqrt\",\n",
        "  orthogonalize=0, lanczos_degree=20, \n",
        "  confidence_level=0.95, error_rtol=1e-2, min_num_samples=150, max_num_samples=180, \n",
        "  num_threads=1, seed=0\n",
        ")\n",
        "slq(A, **slq_params)"
      ],
      "id": "70faac27",
      "execution_count": null,
      "outputs": []
    },
    {
      "cell_type": "code",
      "metadata": {},
      "source": [
        "import optuna\n",
        "default_params = dict(\n",
        "  matrix_function = \"sqrt\",\n",
        "  orthogonalize=10, lanczos_degree=20, \n",
        "  min_num_samples=200, max_num_samples=200, \n",
        "  seed = 0\n",
        ")\n",
        "\n",
        "nuclear_norm_truth = np.sum(np.sqrt(np.abs(np.linalg.eigvalsh(A))))\n",
        "wut = {}\n",
        "def objective(trial):\n",
        "  # print(trial)\n",
        "  params = default_params.copy()\n",
        "  # trial.suggest_int(\"orthogonalize\", low=0, high=30)\n",
        "  params['orthogonalize'] = trial.suggest_int(\"orthogonalize\", 0, 20, log=False)\n",
        "  # params['lanczos_degree'] = trial.suggest_int(\"lanczos_degree\", 0, 99, log=False)\n",
        "\n",
        "  tr_est, info = slq(A, return_info = True, **params)\n",
        "  slq_samples = np.squeeze(info['convergence']['samples'])\n",
        "  slq_averages = np.cumsum(slq_samples)/(np.arange(len(slq_samples))+1)\n",
        "  return np.linalg.norm(slq_averages - np.repeat(nuclear_norm_truth, len(slq_averages)))\n",
        "\n",
        "study = optuna.create_study()\n",
        "study.optimize(objective, n_trials=250)\n",
        "\n",
        "\n",
        "from optuna.visualization import plot_optimization_history\n",
        "from optuna.visualization import plot_parallel_coordinate\n",
        "\n",
        "plot_optimization_history(study)\n",
        "plot_parallel_coordinate(study)\n",
        "study.best_params"
      ],
      "id": "1c36ead2",
      "execution_count": null,
      "outputs": []
    },
    {
      "cell_type": "code",
      "metadata": {},
      "source": [
        "det_est, info = slq(A, plot=False, return_info=True, **slq_params)\n",
        "\n",
        "\n",
        "np.log(np.linalg.det(A))\n",
        "\n",
        "\n",
        "# np.log(np.prod(np.sort(np.abs(np.linalg.eigvalsh(A)))))"
      ],
      "id": "fc226b0c",
      "execution_count": null,
      "outputs": []
    },
    {
      "cell_type": "code",
      "metadata": {},
      "source": [
        "I = np.eye(100)\n",
        "tr_true = np.sum([np.take(I[:,[i]].T @ T @ I[:,[i]], 0) for i in range(100)])\n",
        "\n",
        "\n",
        "tr_true = np.sum(T.diagonal())\n",
        "assert np.isclose(np.take(tr_est,0), tr_true, atol=np.abs(tr_true)*0.05), \"Estimate is off more than 5%\""
      ],
      "id": "18ca8db5",
      "execution_count": null,
      "outputs": []
    }
  ],
  "metadata": {
    "kernelspec": {
      "name": "python3",
      "language": "python",
      "display_name": "Python 3 (ipykernel)"
    }
  },
  "nbformat": 4,
  "nbformat_minor": 5
}