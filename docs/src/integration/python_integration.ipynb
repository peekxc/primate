{
  "cells": [
    {
      "cell_type": "raw",
      "metadata": {},
      "source": [
        "---\n",
        "title: \"Python Integration\"\n",
        "---"
      ],
      "id": "556449dc"
    },
    {
      "cell_type": "markdown",
      "metadata": {},
      "source": [
        "To demonstrate the SLQ method in Python, we start with a simple symmetric matrix $A \\in \\mathbb{R}^{n \\times n}$. \n"
      ],
      "id": "8a120a38"
    },
    {
      "cell_type": "code",
      "metadata": {},
      "source": [
        "import numpy as np\n",
        "from primate.random import symmetric\n",
        "A = symmetric(150, psd = True)"
      ],
      "id": "e7000a74",
      "execution_count": null,
      "outputs": []
    },
    {
      "cell_type": "markdown",
      "metadata": {},
      "source": [
        "This generates a random positive semi-definite matrix with eigenvalues in the interval $[0, 1]$. \n"
      ],
      "id": "825ad88c"
    },
    {
      "cell_type": "code",
      "metadata": {},
      "source": [
        "#| echo: false\n",
        "#| output: false\n",
        "from bokeh.io import output_notebook\n",
        "output_notebook()"
      ],
      "id": "57f0ef78",
      "execution_count": null,
      "outputs": []
    },
    {
      "cell_type": "code",
      "metadata": {},
      "source": [
        "from primate.trace import sl_trace\n",
        "estimates = sl_trace(A, plot=True)"
      ],
      "id": "0f5e4f2c",
      "execution_count": null,
      "outputs": []
    },
    {
      "cell_type": "code",
      "metadata": {},
      "source": [
        "tr_est = np.mean(estimates)\n",
        "print(f\"Error: {abs(tr_est - A.trace()):.5}\")\n",
        "print(f\"Samples std. deviation: {estimates.std(ddof=1)}\")\n",
        "print(f\"Estimator standard error: {estimates.std(ddof=1)/np.sqrt(len(estimates))}\")"
      ],
      "id": "207e34ca",
      "execution_count": null,
      "outputs": []
    }
  ],
  "metadata": {
    "kernelspec": {
      "name": "python3",
      "language": "python",
      "display_name": "Python 3 (ipykernel)"
    }
  },
  "nbformat": 4,
  "nbformat_minor": 5
}